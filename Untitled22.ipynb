{
  "nbformat": 4,
  "nbformat_minor": 0,
  "metadata": {
    "colab": {
      "name": "Untitled22.ipynb",
      "provenance": [],
      "authorship_tag": "ABX9TyNUkoEEmDfYXdy5pCB3aXCL",
      "include_colab_link": true
    },
    "kernelspec": {
      "name": "python3",
      "display_name": "Python 3"
    }
  },
  "cells": [
    {
      "cell_type": "markdown",
      "metadata": {
        "id": "view-in-github",
        "colab_type": "text"
      },
      "source": [
        "<a href=\"https://colab.research.google.com/github/jonathansantoss/Apirest/blob/master/Untitled22.ipynb\" target=\"_parent\"><img src=\"https://colab.research.google.com/assets/colab-badge.svg\" alt=\"Open In Colab\"/></a>"
      ]
    },
    {
      "cell_type": "code",
      "metadata": {
        "id": "HVwuttpw3R3L"
      },
      "source": [
        "from bs4 import BeautifulSoup\n",
        "from urllib.request import urlopen, Request\n",
        "import pandas as pd\n",
        "\n",
        "url = 'https://www.amazon.com.br/s?k=iphone&__mk_pt_BR=%C3%85M%C3%85%C5%BD%C3%95%C3%91&ref=nb_sb_noss_1'\n",
        "\n",
        "headers = {\n",
        "    'User-Agent':\n",
        "    'Mozilla/5.0 (Windows NT 10.0; Win64; x64) AppleWebKit/537.36 (KHTML, like Gecko) Chrome/76.0.3809.100 Safari/537.36'}\n",
        "\n",
        "req = Request(url, headers = headers)\n",
        "response = urlopen(req)\n",
        "html = response.read().decode('utf-8')\n",
        "\n",
        "soup = BeautifulSoup(html, 'html.parser')\n",
        "soup = soup.find('div', id=\"search\")\n",
        "soup = soup.find('div',{\n",
        "    'class':'s-desktop-width-max s-desktop-content sg-row'})\n",
        "soup = soup.find('div', {\n",
        "    'class':'sg-col-16-of-20 sg-col sg-col-8-of-12 sg-col-12-of-16'})\n",
        "soup = soup.find('div', {\n",
        "    'class':'s-main-slot s-result-list s-search-results sg-row'})\n",
        "\n",
        "prices = []\n",
        "names = []\n",
        "\n",
        "prices_span = soup.findAll('span', {'class':'a-offscreen'})\n",
        "for price_span in prices_span:\n",
        "  prices.append(price_span.getText())\n",
        "\n",
        "names_span = soup.findAll('span', {'class':['a-size-base-plus']})\n",
        "for name_span in names_span:\n",
        "  names.append(name_span.getText())\n",
        "\n",
        "prices.append(None)\n",
        "prices.append(None)\n",
        "prices.append(None)\n",
        "prices.append(None)\n",
        "prices.append(None)\n",
        "prices.append(None)\n",
        "prices.append(None)\n",
        "prices.append(None)\n",
        "prices.append(None)\n",
        "\n",
        "produtos = pd.DataFrame()\n",
        "produtos['Name'] = names\n",
        "produtos['Price'] = prices"
      ],
      "execution_count": 151,
      "outputs": []
    },
    {
      "cell_type": "code",
      "metadata": {
        "colab": {
          "base_uri": "https://localhost:8080/",
          "height": 204
        },
        "id": "jdgWXuvSLsaI",
        "outputId": "08c639a1-f13c-461a-dc70-922e846a8e8d"
      },
      "source": [
        "produtos.head()"
      ],
      "execution_count": 152,
      "outputs": [
        {
          "output_type": "execute_result",
          "data": {
            "text/html": [
              "<div>\n",
              "<style scoped>\n",
              "    .dataframe tbody tr th:only-of-type {\n",
              "        vertical-align: middle;\n",
              "    }\n",
              "\n",
              "    .dataframe tbody tr th {\n",
              "        vertical-align: top;\n",
              "    }\n",
              "\n",
              "    .dataframe thead th {\n",
              "        text-align: right;\n",
              "    }\n",
              "</style>\n",
              "<table border=\"1\" class=\"dataframe\">\n",
              "  <thead>\n",
              "    <tr style=\"text-align: right;\">\n",
              "      <th></th>\n",
              "      <th>Name</th>\n",
              "      <th>Price</th>\n",
              "    </tr>\n",
              "  </thead>\n",
              "  <tbody>\n",
              "    <tr>\n",
              "      <th>0</th>\n",
              "      <td>Novo Apple iPhone 12 Pro Max (256 GB, Grafite)</td>\n",
              "      <td>R$10.808,11</td>\n",
              "    </tr>\n",
              "    <tr>\n",
              "      <th>1</th>\n",
              "      <td>iPhone 7 Apple 128GB, Tela Retina HD de 4,7” c...</td>\n",
              "      <td>R$4.996,89</td>\n",
              "    </tr>\n",
              "    <tr>\n",
              "      <th>2</th>\n",
              "      <td>Iphone 11 Apple Vermelho, 64gb Desbloqueado - ...</td>\n",
              "      <td>R$6.638,05</td>\n",
              "    </tr>\n",
              "    <tr>\n",
              "      <th>3</th>\n",
              "      <td>Novo Apple iPhone 12 (128 GB, Branco)</td>\n",
              "      <td>R$7.889,90</td>\n",
              "    </tr>\n",
              "    <tr>\n",
              "      <th>4</th>\n",
              "      <td>Apple Iphone 12 (128GB Preto) - Desbloqueado A...</td>\n",
              "      <td>R$1.597,99</td>\n",
              "    </tr>\n",
              "  </tbody>\n",
              "</table>\n",
              "</div>"
            ],
            "text/plain": [
              "                                                Name        Price\n",
              "0     Novo Apple iPhone 12 Pro Max (256 GB, Grafite)  R$10.808,11\n",
              "1  iPhone 7 Apple 128GB, Tela Retina HD de 4,7” c...   R$4.996,89\n",
              "2  Iphone 11 Apple Vermelho, 64gb Desbloqueado - ...   R$6.638,05\n",
              "3              Novo Apple iPhone 12 (128 GB, Branco)   R$7.889,90\n",
              "4  Apple Iphone 12 (128GB Preto) - Desbloqueado A...   R$1.597,99"
            ]
          },
          "metadata": {
            "tags": []
          },
          "execution_count": 152
        }
      ]
    },
    {
      "cell_type": "code",
      "metadata": {
        "id": "5IMGZD7BN4NS"
      },
      "source": [
        ""
      ],
      "execution_count": null,
      "outputs": []
    }
  ]
}